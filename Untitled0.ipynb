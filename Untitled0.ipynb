{
  "nbformat": 4,
  "nbformat_minor": 0,
  "metadata": {
    "colab": {
      "name": "Untitled0.ipynb",
      "provenance": [],
      "authorship_tag": "ABX9TyN4MyGCCCpg4UDy5MFYmBhl",
      "include_colab_link": true
    },
    "kernelspec": {
      "name": "python3",
      "display_name": "Python 3"
    }
  },
  "cells": [
    {
      "cell_type": "markdown",
      "metadata": {
        "id": "view-in-github",
        "colab_type": "text"
      },
      "source": [
        "<a href=\"https://colab.research.google.com/github/anthonyburgos0329/anthony.burgosgithub.io/blob/master/Untitled0.ipynb\" target=\"_parent\"><img src=\"https://colab.research.google.com/assets/colab-badge.svg\" alt=\"Open In Colab\"/></a>"
      ]
    },
    {
      "cell_type": "code",
      "metadata": {
        "id": "pB39WkYZdG7N",
        "colab_type": "code",
        "colab": {
          "base_uri": "https://localhost:8080/",
          "height": 35
        },
        "cellView": "both",
        "outputId": "4dc53701-57b1-4e03-c040-12fb481dd63f"
      },
      "source": [
        "#@title Texto de título predeterminado { run: \"auto\", vertical-output: true }\n",
        "np = \"3\" #@param [\"1\", \"2\", \"3\", \"4\"]\n",
        "\n",
        "if np == \"1\":\n",
        "        print (\"fallo en el refresco de la memoria\")\n",
        "elif np == \"2\":\n",
        "          print (\" fallo de memoria. Error de paridad\")\n",
        "elif np == \"3\":\n",
        "      print(\"Fallo en la memoria base de 64K\")\n",
        "elif np == \"4\":\n",
        "      print(\"fallo en el timer del sistema.\")\n",
        "else:\n",
        "      print (\"Error desconocido\")"
      ],
      "execution_count": 20,
      "outputs": [
        {
          "output_type": "stream",
          "text": [
            "Fallo en la memoria base de 64K\n"
          ],
          "name": "stdout"
        }
      ]
    }
  ]
}